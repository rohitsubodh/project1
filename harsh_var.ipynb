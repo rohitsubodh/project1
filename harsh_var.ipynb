{
  "nbformat": 4,
  "nbformat_minor": 0,
  "metadata": {
    "colab": {
      "name": "harsh_var",
      "provenance": [],
      "authorship_tag": "ABX9TyNyGiQnsesQKX90XHNjN1/S",
      "include_colab_link": true
    },
    "kernelspec": {
      "name": "python3",
      "display_name": "Python 3"
    },
    "language_info": {
      "name": "python"
    }
  },
  "cells": [
    {
      "cell_type": "markdown",
      "metadata": {
        "id": "view-in-github",
        "colab_type": "text"
      },
      "source": [
        "<a href=\"https://colab.research.google.com/github/rohitsubodh/project1/blob/main/harsh_var.ipynb\" target=\"_parent\"><img src=\"https://colab.research.google.com/assets/colab-badge.svg\" alt=\"Open In Colab\"/></a>"
      ]
    },
    {
      "cell_type": "code",
      "metadata": {
        "id": "peirOi01OiAb"
      },
      "source": [
        "import numpy as np\n",
        "import pandas as pd\n",
        "from pandas import ExcelWriter\n",
        "from pandas import ExcelFile\n",
        "import matplotlib.pyplot as plt\n",
        "%matplotlib inline\n",
        "import seaborn as sns\n",
        " \n",
        "import missingno as mg\n",
        " \n",
        "df1 = pd.read_excel('/content/Sample_BOOKINGS_Dataset_1.xlsx')"
      ],
      "execution_count": null,
      "outputs": []
    },
    {
      "cell_type": "code",
      "metadata": {
        "colab": {
          "base_uri": "https://localhost:8080/",
          "height": 402
        },
        "id": "SxVHSTSwPfv-",
        "outputId": "c1609f8b-16f1-4b53-e386-cff166502abd"
      },
      "source": [
        "df2 = pd.read_excel('/content/Sample_CUSTOMER_Dataset_2.xlsx')\n",
        "df2"
      ],
      "execution_count": null,
      "outputs": [
        {
          "output_type": "execute_result",
          "data": {
            "text/html": [
              "<div>\n",
              "<style scoped>\n",
              "    .dataframe tbody tr th:only-of-type {\n",
              "        vertical-align: middle;\n",
              "    }\n",
              "\n",
              "    .dataframe tbody tr th {\n",
              "        vertical-align: top;\n",
              "    }\n",
              "\n",
              "    .dataframe thead th {\n",
              "        text-align: right;\n",
              "    }\n",
              "</style>\n",
              "<table border=\"1\" class=\"dataframe\">\n",
              "  <thead>\n",
              "    <tr style=\"text-align: right;\">\n",
              "      <th></th>\n",
              "      <th>cust_id</th>\n",
              "      <th>name</th>\n",
              "      <th>city</th>\n",
              "      <th>gender</th>\n",
              "      <th>AGE</th>\n",
              "      <th>medium</th>\n",
              "      <th>signup_date</th>\n",
              "    </tr>\n",
              "  </thead>\n",
              "  <tbody>\n",
              "    <tr>\n",
              "      <th>0</th>\n",
              "      <td>5015431352112</td>\n",
              "      <td>Juhi Agrawal</td>\n",
              "      <td>Delhi NCR</td>\n",
              "      <td>F</td>\n",
              "      <td>72</td>\n",
              "      <td>web</td>\n",
              "      <td>2020-09-01</td>\n",
              "    </tr>\n",
              "    <tr>\n",
              "      <th>1</th>\n",
              "      <td>5015431352113</td>\n",
              "      <td>Manish</td>\n",
              "      <td>Delhi NCR</td>\n",
              "      <td>M</td>\n",
              "      <td>45</td>\n",
              "      <td>android</td>\n",
              "      <td>2020-09-01</td>\n",
              "    </tr>\n",
              "    <tr>\n",
              "      <th>2</th>\n",
              "      <td>5015431352114</td>\n",
              "      <td>mani</td>\n",
              "      <td>Chennai</td>\n",
              "      <td>M</td>\n",
              "      <td>29</td>\n",
              "      <td>android</td>\n",
              "      <td>2020-09-01</td>\n",
              "    </tr>\n",
              "    <tr>\n",
              "      <th>3</th>\n",
              "      <td>5015431352115</td>\n",
              "      <td>Rija</td>\n",
              "      <td>Kolkata</td>\n",
              "      <td>F</td>\n",
              "      <td>60</td>\n",
              "      <td>google</td>\n",
              "      <td>2020-09-01</td>\n",
              "    </tr>\n",
              "    <tr>\n",
              "      <th>4</th>\n",
              "      <td>5015431352120</td>\n",
              "      <td>Bharath</td>\n",
              "      <td>NaN</td>\n",
              "      <td>M</td>\n",
              "      <td>32</td>\n",
              "      <td>google</td>\n",
              "      <td>2020-09-01</td>\n",
              "    </tr>\n",
              "    <tr>\n",
              "      <th>...</th>\n",
              "      <td>...</td>\n",
              "      <td>...</td>\n",
              "      <td>...</td>\n",
              "      <td>...</td>\n",
              "      <td>...</td>\n",
              "      <td>...</td>\n",
              "      <td>...</td>\n",
              "    </tr>\n",
              "    <tr>\n",
              "      <th>98349</th>\n",
              "      <td>5015433432050</td>\n",
              "      <td>Datta</td>\n",
              "      <td>Mumbai</td>\n",
              "      <td>NaN</td>\n",
              "      <td>18</td>\n",
              "      <td>web</td>\n",
              "      <td>2020-11-30</td>\n",
              "    </tr>\n",
              "    <tr>\n",
              "      <th>98350</th>\n",
              "      <td>5015433432051</td>\n",
              "      <td>Kumud Sharma</td>\n",
              "      <td>Delhi NCR</td>\n",
              "      <td>NaN</td>\n",
              "      <td>36</td>\n",
              "      <td>android</td>\n",
              "      <td>2020-11-30</td>\n",
              "    </tr>\n",
              "    <tr>\n",
              "      <th>98351</th>\n",
              "      <td>5015433432052</td>\n",
              "      <td>Pramod</td>\n",
              "      <td>Kolhapur</td>\n",
              "      <td>NaN</td>\n",
              "      <td>78</td>\n",
              "      <td>google</td>\n",
              "      <td>2020-11-30</td>\n",
              "    </tr>\n",
              "    <tr>\n",
              "      <th>98352</th>\n",
              "      <td>5015433432053</td>\n",
              "      <td>Tanzeem Ahmed</td>\n",
              "      <td>Bengaluru</td>\n",
              "      <td>NaN</td>\n",
              "      <td>28</td>\n",
              "      <td>android</td>\n",
              "      <td>2020-11-30</td>\n",
              "    </tr>\n",
              "    <tr>\n",
              "      <th>98353</th>\n",
              "      <td>5015433432054</td>\n",
              "      <td>abhisar</td>\n",
              "      <td>Jaipur</td>\n",
              "      <td>NaN</td>\n",
              "      <td>28</td>\n",
              "      <td>android</td>\n",
              "      <td>2020-11-30</td>\n",
              "    </tr>\n",
              "  </tbody>\n",
              "</table>\n",
              "<p>98354 rows × 7 columns</p>\n",
              "</div>"
            ],
            "text/plain": [
              "             cust_id           name       city gender  AGE   medium signup_date\n",
              "0      5015431352112   Juhi Agrawal  Delhi NCR      F   72      web  2020-09-01\n",
              "1      5015431352113         Manish  Delhi NCR      M   45  android  2020-09-01\n",
              "2      5015431352114           mani    Chennai      M   29  android  2020-09-01\n",
              "3      5015431352115           Rija    Kolkata      F   60   google  2020-09-01\n",
              "4      5015431352120        Bharath        NaN      M   32   google  2020-09-01\n",
              "...              ...            ...        ...    ...  ...      ...         ...\n",
              "98349  5015433432050          Datta     Mumbai    NaN   18      web  2020-11-30\n",
              "98350  5015433432051   Kumud Sharma  Delhi NCR    NaN   36  android  2020-11-30\n",
              "98351  5015433432052         Pramod   Kolhapur    NaN   78   google  2020-11-30\n",
              "98352  5015433432053  Tanzeem Ahmed  Bengaluru    NaN   28  android  2020-11-30\n",
              "98353  5015433432054        abhisar     Jaipur    NaN   28  android  2020-11-30\n",
              "\n",
              "[98354 rows x 7 columns]"
            ]
          },
          "metadata": {
            "tags": []
          },
          "execution_count": 223
        }
      ]
    },
    {
      "cell_type": "code",
      "metadata": {
        "colab": {
          "base_uri": "https://localhost:8080/",
          "height": 570
        },
        "id": "wO7Q44hwPnAi",
        "outputId": "efb76493-a3f3-4a29-9699-eb921b4ef251"
      },
      "source": [
        "df = pd.merge(df2,df1,on='cust_id')  #merging of two dataframe df1 and df2\n",
        "df"
      ],
      "execution_count": null,
      "outputs": [
        {
          "output_type": "execute_result",
          "data": {
            "text/html": [
              "<div>\n",
              "<style scoped>\n",
              "    .dataframe tbody tr th:only-of-type {\n",
              "        vertical-align: middle;\n",
              "    }\n",
              "\n",
              "    .dataframe tbody tr th {\n",
              "        vertical-align: top;\n",
              "    }\n",
              "\n",
              "    .dataframe thead th {\n",
              "        text-align: right;\n",
              "    }\n",
              "</style>\n",
              "<table border=\"1\" class=\"dataframe\">\n",
              "  <thead>\n",
              "    <tr style=\"text-align: right;\">\n",
              "      <th></th>\n",
              "      <th>cust_id</th>\n",
              "      <th>name</th>\n",
              "      <th>city</th>\n",
              "      <th>gender</th>\n",
              "      <th>AGE</th>\n",
              "      <th>medium_x</th>\n",
              "      <th>signup_date</th>\n",
              "      <th>date</th>\n",
              "      <th>medium_y</th>\n",
              "      <th>restaurant_name</th>\n",
              "      <th>location</th>\n",
              "    </tr>\n",
              "  </thead>\n",
              "  <tbody>\n",
              "    <tr>\n",
              "      <th>0</th>\n",
              "      <td>5015431352112</td>\n",
              "      <td>Juhi Agrawal</td>\n",
              "      <td>Delhi NCR</td>\n",
              "      <td>F</td>\n",
              "      <td>72</td>\n",
              "      <td>web</td>\n",
              "      <td>2020-09-01</td>\n",
              "      <td>2020-09-04</td>\n",
              "      <td>web</td>\n",
              "      <td>Spectra</td>\n",
              "      <td>The Leela Ambience, Gurgaon</td>\n",
              "    </tr>\n",
              "    <tr>\n",
              "      <th>1</th>\n",
              "      <td>5015431352115</td>\n",
              "      <td>Rija</td>\n",
              "      <td>Kolkata</td>\n",
              "      <td>F</td>\n",
              "      <td>60</td>\n",
              "      <td>google</td>\n",
              "      <td>2020-09-01</td>\n",
              "      <td>2020-09-06</td>\n",
              "      <td>google</td>\n",
              "      <td>Barbeque Nation</td>\n",
              "      <td>Park Street Area, Kolkata</td>\n",
              "    </tr>\n",
              "    <tr>\n",
              "      <th>2</th>\n",
              "      <td>5015431352121</td>\n",
              "      <td>Aparna</td>\n",
              "      <td>Delhi NCR</td>\n",
              "      <td>F</td>\n",
              "      <td>27</td>\n",
              "      <td>google</td>\n",
              "      <td>2020-09-01</td>\n",
              "      <td>2020-09-01</td>\n",
              "      <td>google</td>\n",
              "      <td>Barbeque Nation</td>\n",
              "      <td>Ambience Mall, Gurgaon</td>\n",
              "    </tr>\n",
              "    <tr>\n",
              "      <th>3</th>\n",
              "      <td>5015431352122</td>\n",
              "      <td>Pavan Sai Chandra</td>\n",
              "      <td>Hyderabad</td>\n",
              "      <td>M</td>\n",
              "      <td>69</td>\n",
              "      <td>google</td>\n",
              "      <td>2020-09-01</td>\n",
              "      <td>2020-09-04</td>\n",
              "      <td>google</td>\n",
              "      <td>Barbeque Pride</td>\n",
              "      <td>Hitech City, Hyderabad</td>\n",
              "    </tr>\n",
              "    <tr>\n",
              "      <th>4</th>\n",
              "      <td>5015431352123</td>\n",
              "      <td>Vaseem</td>\n",
              "      <td>Bengaluru</td>\n",
              "      <td>M</td>\n",
              "      <td>38</td>\n",
              "      <td>google</td>\n",
              "      <td>2020-09-01</td>\n",
              "      <td>2020-09-06</td>\n",
              "      <td>google</td>\n",
              "      <td>Float Brewery</td>\n",
              "      <td>Kalyan Nagar, North Bengaluru</td>\n",
              "    </tr>\n",
              "    <tr>\n",
              "      <th>...</th>\n",
              "      <td>...</td>\n",
              "      <td>...</td>\n",
              "      <td>...</td>\n",
              "      <td>...</td>\n",
              "      <td>...</td>\n",
              "      <td>...</td>\n",
              "      <td>...</td>\n",
              "      <td>...</td>\n",
              "      <td>...</td>\n",
              "      <td>...</td>\n",
              "      <td>...</td>\n",
              "    </tr>\n",
              "    <tr>\n",
              "      <th>61328</th>\n",
              "      <td>5015433432040</td>\n",
              "      <td>Adithya</td>\n",
              "      <td>Hyderabad</td>\n",
              "      <td>NaN</td>\n",
              "      <td>38</td>\n",
              "      <td>google</td>\n",
              "      <td>2020-11-30</td>\n",
              "      <td>2020-12-01</td>\n",
              "      <td>google</td>\n",
              "      <td>Deccan Pavilion</td>\n",
              "      <td>ITC Kakatiya</td>\n",
              "    </tr>\n",
              "    <tr>\n",
              "      <th>61329</th>\n",
              "      <td>5015433432043</td>\n",
              "      <td>Mazia</td>\n",
              "      <td>Mumbai</td>\n",
              "      <td>NaN</td>\n",
              "      <td>26</td>\n",
              "      <td>google</td>\n",
              "      <td>2020-11-30</td>\n",
              "      <td>2020-12-01</td>\n",
              "      <td>google</td>\n",
              "      <td>Barbeque Nation</td>\n",
              "      <td>Hill Road, Bandra West, Western Suburbs</td>\n",
              "    </tr>\n",
              "    <tr>\n",
              "      <th>61330</th>\n",
              "      <td>5015433432044</td>\n",
              "      <td>Salik</td>\n",
              "      <td>Jaipur</td>\n",
              "      <td>NaN</td>\n",
              "      <td>31</td>\n",
              "      <td>web</td>\n",
              "      <td>2020-11-30</td>\n",
              "      <td>2020-12-04</td>\n",
              "      <td>web</td>\n",
              "      <td>Barbeque Nation</td>\n",
              "      <td>MI Road, Jaipur</td>\n",
              "    </tr>\n",
              "    <tr>\n",
              "      <th>61331</th>\n",
              "      <td>5015433432050</td>\n",
              "      <td>Datta</td>\n",
              "      <td>Mumbai</td>\n",
              "      <td>NaN</td>\n",
              "      <td>18</td>\n",
              "      <td>web</td>\n",
              "      <td>2020-11-30</td>\n",
              "      <td>2020-12-11</td>\n",
              "      <td>web</td>\n",
              "      <td>Lake View Cafe</td>\n",
              "      <td>Renaissance Mumbai Convention Centre &amp; Hotel, ...</td>\n",
              "    </tr>\n",
              "    <tr>\n",
              "      <th>61332</th>\n",
              "      <td>5015433432052</td>\n",
              "      <td>Pramod</td>\n",
              "      <td>Kolhapur</td>\n",
              "      <td>NaN</td>\n",
              "      <td>78</td>\n",
              "      <td>google</td>\n",
              "      <td>2020-11-30</td>\n",
              "      <td>2020-12-02</td>\n",
              "      <td>google</td>\n",
              "      <td>Barbeque Nation</td>\n",
              "      <td>Kolhapur</td>\n",
              "    </tr>\n",
              "  </tbody>\n",
              "</table>\n",
              "<p>61333 rows × 11 columns</p>\n",
              "</div>"
            ],
            "text/plain": [
              "             cust_id  ...                                           location\n",
              "0      5015431352112  ...                        The Leela Ambience, Gurgaon\n",
              "1      5015431352115  ...                          Park Street Area, Kolkata\n",
              "2      5015431352121  ...                             Ambience Mall, Gurgaon\n",
              "3      5015431352122  ...                             Hitech City, Hyderabad\n",
              "4      5015431352123  ...                      Kalyan Nagar, North Bengaluru\n",
              "...              ...  ...                                                ...\n",
              "61328  5015433432040  ...                                       ITC Kakatiya\n",
              "61329  5015433432043  ...            Hill Road, Bandra West, Western Suburbs\n",
              "61330  5015433432044  ...                                    MI Road, Jaipur\n",
              "61331  5015433432050  ...  Renaissance Mumbai Convention Centre & Hotel, ...\n",
              "61332  5015433432052  ...                                           Kolhapur\n",
              "\n",
              "[61333 rows x 11 columns]"
            ]
          },
          "metadata": {
            "tags": []
          },
          "execution_count": 224
        }
      ]
    },
    {
      "cell_type": "code",
      "metadata": {
        "colab": {
          "base_uri": "https://localhost:8080/"
        },
        "id": "GxAdZb-rzSw9",
        "outputId": "5483bbd9-2a35-4bcb-ce38-6f1056ae43c2"
      },
      "source": [
        "df.info"
      ],
      "execution_count": null,
      "outputs": [
        {
          "output_type": "execute_result",
          "data": {
            "text/plain": [
              "<bound method DataFrame.info of              cust_id  ...                                           location\n",
              "0      5015431352112  ...                        The Leela Ambience, Gurgaon\n",
              "1      5015431352115  ...                          Park Street Area, Kolkata\n",
              "2      5015431352121  ...                             Ambience Mall, Gurgaon\n",
              "3      5015431352122  ...                             Hitech City, Hyderabad\n",
              "4      5015431352123  ...                      Kalyan Nagar, North Bengaluru\n",
              "...              ...  ...                                                ...\n",
              "61328  5015433432040  ...                                       ITC Kakatiya\n",
              "61329  5015433432043  ...            Hill Road, Bandra West, Western Suburbs\n",
              "61330  5015433432044  ...                                    MI Road, Jaipur\n",
              "61331  5015433432050  ...  Renaissance Mumbai Convention Centre & Hotel, ...\n",
              "61332  5015433432052  ...                                           Kolhapur\n",
              "\n",
              "[61333 rows x 11 columns]>"
            ]
          },
          "metadata": {
            "tags": []
          },
          "execution_count": 225
        }
      ]
    },
    {
      "cell_type": "code",
      "metadata": {
        "colab": {
          "base_uri": "https://localhost:8080/"
        },
        "id": "KJvPcMRm0AK4",
        "outputId": "224781fb-7008-48f0-952c-1ce1bf746d84"
      },
      "source": [
        "#Missing values in merged \n",
        "df.isnull().sum()"
      ],
      "execution_count": null,
      "outputs": [
        {
          "output_type": "execute_result",
          "data": {
            "text/plain": [
              "cust_id                0\n",
              "name                  38\n",
              "city                   0\n",
              "gender             58353\n",
              "AGE                    0\n",
              "medium_x               0\n",
              "signup_date            0\n",
              "date                   0\n",
              "medium_y               0\n",
              "restaurant_name        0\n",
              "location               0\n",
              "dtype: int64"
            ]
          },
          "metadata": {
            "tags": []
          },
          "execution_count": 226
        }
      ]
    },
    {
      "cell_type": "code",
      "metadata": {
        "colab": {
          "base_uri": "https://localhost:8080/",
          "height": 447
        },
        "id": "k0BzRpXO0gds",
        "outputId": "e04736bd-a541-42a0-c4e1-d0ee4882a501"
      },
      "source": [
        "#Visulaising total number of missing values in each column of merged\n",
        "mg.matrix(df,figsize=(10,5))"
      ],
      "execution_count": null,
      "outputs": [
        {
          "output_type": "execute_result",
          "data": {
            "text/plain": [
              "<matplotlib.axes._subplots.AxesSubplot at 0x7ff796138110>"
            ]
          },
          "metadata": {
            "tags": []
          },
          "execution_count": 227
        },
        {
          "output_type": "display_data",
          "data": {
            "image/png": "[encoded data removed]",
            "text/plain": [
              "<Figure size 720x360 with 2 Axes>"
            ]
          },
          "metadata": {
            "tags": [],
            "needs_background": "light"
          }
        }
      ]
    },
    {
      "cell_type": "code",
      "metadata": {
        "id": "8wJdgwrsPnUh"
      },
      "source": [
        "#finding difference in signup date and joining date\n",
        "df['signup_date']=[int(i.days) for i in (df['date']-df['signup_date'])]\n",
        "df['date']=df.signup_date"
      ],
      "execution_count": null,
      "outputs": []
    },
    {
      "cell_type": "code",
      "metadata": {
        "id": "0Ns6d7LQzuUL"
      },
      "source": [
        ""
      ],
      "execution_count": null,
      "outputs": []
    },
    {
      "cell_type": "code",
      "metadata": {
        "colab": {
          "base_uri": "https://localhost:8080/",
          "height": 452
        },
        "id": "T_JQG4ZtPneH",
        "outputId": "f8742276-1356-4c25-f9e9-1f4a2cfc1ecf"
      },
      "source": [
        "# df['date']=df.signup_date\n",
        "df"
      ],
      "execution_count": null,
      "outputs": [
        {
          "output_type": "execute_result",
          "data": {
            "text/html": [
              "<div>\n",
              "<style scoped>\n",
              "    .dataframe tbody tr th:only-of-type {\n",
              "        vertical-align: middle;\n",
              "    }\n",
              "\n",
              "    .dataframe tbody tr th {\n",
              "        vertical-align: top;\n",
              "    }\n",
              "\n",
              "    .dataframe thead th {\n",
              "        text-align: right;\n",
              "    }\n",
              "</style>\n",
              "<table border=\"1\" class=\"dataframe\">\n",
              "  <thead>\n",
              "    <tr style=\"text-align: right;\">\n",
              "      <th></th>\n",
              "      <th>cust_id</th>\n",
              "      <th>name</th>\n",
              "      <th>city</th>\n",
              "      <th>gender</th>\n",
              "      <th>AGE</th>\n",
              "      <th>medium_x</th>\n",
              "      <th>signup_date</th>\n",
              "      <th>date</th>\n",
              "      <th>medium_y</th>\n",
              "      <th>restaurant_name</th>\n",
              "      <th>location</th>\n",
              "    </tr>\n",
              "  </thead>\n",
              "  <tbody>\n",
              "    <tr>\n",
              "      <th>0</th>\n",
              "      <td>5015431352112</td>\n",
              "      <td>Juhi Agrawal</td>\n",
              "      <td>Delhi NCR</td>\n",
              "      <td>F</td>\n",
              "      <td>72</td>\n",
              "      <td>web</td>\n",
              "      <td>3</td>\n",
              "      <td>3</td>\n",
              "      <td>web</td>\n",
              "      <td>Spectra</td>\n",
              "      <td>The Leela Ambience, Gurgaon</td>\n",
              "    </tr>\n",
              "    <tr>\n",
              "      <th>1</th>\n",
              "      <td>5015431352115</td>\n",
              "      <td>Rija</td>\n",
              "      <td>Kolkata</td>\n",
              "      <td>F</td>\n",
              "      <td>60</td>\n",
              "      <td>google</td>\n",
              "      <td>5</td>\n",
              "      <td>5</td>\n",
              "      <td>google</td>\n",
              "      <td>Barbeque Nation</td>\n",
              "      <td>Park Street Area, Kolkata</td>\n",
              "    </tr>\n",
              "    <tr>\n",
              "      <th>2</th>\n",
              "      <td>5015431352121</td>\n",
              "      <td>Aparna</td>\n",
              "      <td>Delhi NCR</td>\n",
              "      <td>F</td>\n",
              "      <td>27</td>\n",
              "      <td>google</td>\n",
              "      <td>0</td>\n",
              "      <td>0</td>\n",
              "      <td>google</td>\n",
              "      <td>Barbeque Nation</td>\n",
              "      <td>Ambience Mall, Gurgaon</td>\n",
              "    </tr>\n",
              "    <tr>\n",
              "      <th>3</th>\n",
              "      <td>5015431352122</td>\n",
              "      <td>Pavan Sai Chandra</td>\n",
              "      <td>Hyderabad</td>\n",
              "      <td>M</td>\n",
              "      <td>69</td>\n",
              "      <td>google</td>\n",
              "      <td>3</td>\n",
              "      <td>3</td>\n",
              "      <td>google</td>\n",
              "      <td>Barbeque Pride</td>\n",
              "      <td>Hitech City, Hyderabad</td>\n",
              "    </tr>\n",
              "    <tr>\n",
              "      <th>4</th>\n",
              "      <td>5015431352123</td>\n",
              "      <td>Vaseem</td>\n",
              "      <td>Bengaluru</td>\n",
              "      <td>M</td>\n",
              "      <td>38</td>\n",
              "      <td>google</td>\n",
              "      <td>5</td>\n",
              "      <td>5</td>\n",
              "      <td>google</td>\n",
              "      <td>Float Brewery</td>\n",
              "      <td>Kalyan Nagar, North Bengaluru</td>\n",
              "    </tr>\n",
              "    <tr>\n",
              "      <th>...</th>\n",
              "      <td>...</td>\n",
              "      <td>...</td>\n",
              "      <td>...</td>\n",
              "      <td>...</td>\n",
              "      <td>...</td>\n",
              "      <td>...</td>\n",
              "      <td>...</td>\n",
              "      <td>...</td>\n",
              "      <td>...</td>\n",
              "      <td>...</td>\n",
              "      <td>...</td>\n",
              "    </tr>\n",
              "    <tr>\n",
              "      <th>61328</th>\n",
              "      <td>5015433432040</td>\n",
              "      <td>Adithya</td>\n",
              "      <td>Hyderabad</td>\n",
              "      <td>NaN</td>\n",
              "      <td>38</td>\n",
              "      <td>google</td>\n",
              "      <td>1</td>\n",
              "      <td>1</td>\n",
              "      <td>google</td>\n",
              "      <td>Deccan Pavilion</td>\n",
              "      <td>ITC Kakatiya</td>\n",
              "    </tr>\n",
              "    <tr>\n",
              "      <th>61329</th>\n",
              "      <td>5015433432043</td>\n",
              "      <td>Mazia</td>\n",
              "      <td>Mumbai</td>\n",
              "      <td>NaN</td>\n",
              "      <td>26</td>\n",
              "      <td>google</td>\n",
              "      <td>1</td>\n",
              "      <td>1</td>\n",
              "      <td>google</td>\n",
              "      <td>Barbeque Nation</td>\n",
              "      <td>Hill Road, Bandra West, Western Suburbs</td>\n",
              "    </tr>\n",
              "    <tr>\n",
              "      <th>61330</th>\n",
              "      <td>5015433432044</td>\n",
              "      <td>Salik</td>\n",
              "      <td>Jaipur</td>\n",
              "      <td>NaN</td>\n",
              "      <td>31</td>\n",
              "      <td>web</td>\n",
              "      <td>4</td>\n",
              "      <td>4</td>\n",
              "      <td>web</td>\n",
              "      <td>Barbeque Nation</td>\n",
              "      <td>MI Road, Jaipur</td>\n",
              "    </tr>\n",
              "    <tr>\n",
              "      <th>61331</th>\n",
              "      <td>5015433432050</td>\n",
              "      <td>Datta</td>\n",
              "      <td>Mumbai</td>\n",
              "      <td>NaN</td>\n",
              "      <td>18</td>\n",
              "      <td>web</td>\n",
              "      <td>11</td>\n",
              "      <td>11</td>\n",
              "      <td>web</td>\n",
              "      <td>Lake View Cafe</td>\n",
              "      <td>Renaissance Mumbai Convention Centre &amp; Hotel, ...</td>\n",
              "    </tr>\n",
              "    <tr>\n",
              "      <th>61332</th>\n",
              "      <td>5015433432052</td>\n",
              "      <td>Pramod</td>\n",
              "      <td>Kolhapur</td>\n",
              "      <td>NaN</td>\n",
              "      <td>78</td>\n",
              "      <td>google</td>\n",
              "      <td>2</td>\n",
              "      <td>2</td>\n",
              "      <td>google</td>\n",
              "      <td>Barbeque Nation</td>\n",
              "      <td>Kolhapur</td>\n",
              "    </tr>\n",
              "  </tbody>\n",
              "</table>\n",
              "<p>61333 rows × 11 columns</p>\n",
              "</div>"
            ],
            "text/plain": [
              "             cust_id  ...                                           location\n",
              "0      5015431352112  ...                        The Leela Ambience, Gurgaon\n",
              "1      5015431352115  ...                          Park Street Area, Kolkata\n",
              "2      5015431352121  ...                             Ambience Mall, Gurgaon\n",
              "3      5015431352122  ...                             Hitech City, Hyderabad\n",
              "4      5015431352123  ...                      Kalyan Nagar, North Bengaluru\n",
              "...              ...  ...                                                ...\n",
              "61328  5015433432040  ...                                       ITC Kakatiya\n",
              "61329  5015433432043  ...            Hill Road, Bandra West, Western Suburbs\n",
              "61330  5015433432044  ...                                    MI Road, Jaipur\n",
              "61331  5015433432050  ...  Renaissance Mumbai Convention Centre & Hotel, ...\n",
              "61332  5015433432052  ...                                           Kolhapur\n",
              "\n",
              "[61333 rows x 11 columns]"
            ]
          },
          "metadata": {
            "tags": []
          },
          "execution_count": 229
        }
      ]
    },
    {
      "cell_type": "code",
      "metadata": {
        "colab": {
          "base_uri": "https://localhost:8080/",
          "height": 435
        },
        "id": "-uga4tfjPnf-",
        "outputId": "06caed1f-e1da-437b-fac8-a66f67a2b574"
      },
      "source": [
        "df.drop('signup_date',axis=1) #droping signup col"
      ],
      "execution_count": null,
      "outputs": [
        {
          "output_type": "execute_result",
          "data": {
            "text/html": [
              "<div>\n",
              "<style scoped>\n",
              "    .dataframe tbody tr th:only-of-type {\n",
              "        vertical-align: middle;\n",
              "    }\n",
              "\n",
              "    .dataframe tbody tr th {\n",
              "        vertical-align: top;\n",
              "    }\n",
              "\n",
              "    .dataframe thead th {\n",
              "        text-align: right;\n",
              "    }\n",
              "</style>\n",
              "<table border=\"1\" class=\"dataframe\">\n",
              "  <thead>\n",
              "    <tr style=\"text-align: right;\">\n",
              "      <th></th>\n",
              "      <th>cust_id</th>\n",
              "      <th>name</th>\n",
              "      <th>city</th>\n",
              "      <th>gender</th>\n",
              "      <th>AGE</th>\n",
              "      <th>medium_x</th>\n",
              "      <th>date</th>\n",
              "      <th>medium_y</th>\n",
              "      <th>restaurant_name</th>\n",
              "      <th>location</th>\n",
              "    </tr>\n",
              "  </thead>\n",
              "  <tbody>\n",
              "    <tr>\n",
              "      <th>0</th>\n",
              "      <td>5015431352112</td>\n",
              "      <td>Juhi Agrawal</td>\n",
              "      <td>Delhi NCR</td>\n",
              "      <td>F</td>\n",
              "      <td>72</td>\n",
              "      <td>web</td>\n",
              "      <td>3</td>\n",
              "      <td>web</td>\n",
              "      <td>Spectra</td>\n",
              "      <td>The Leela Ambience, Gurgaon</td>\n",
              "    </tr>\n",
              "    <tr>\n",
              "      <th>1</th>\n",
              "      <td>5015431352115</td>\n",
              "      <td>Rija</td>\n",
              "      <td>Kolkata</td>\n",
              "      <td>F</td>\n",
              "      <td>60</td>\n",
              "      <td>google</td>\n",
              "      <td>5</td>\n",
              "      <td>google</td>\n",
              "      <td>Barbeque Nation</td>\n",
              "      <td>Park Street Area, Kolkata</td>\n",
              "    </tr>\n",
              "    <tr>\n",
              "      <th>2</th>\n",
              "      <td>5015431352121</td>\n",
              "      <td>Aparna</td>\n",
              "      <td>Delhi NCR</td>\n",
              "      <td>F</td>\n",
              "      <td>27</td>\n",
              "      <td>google</td>\n",
              "      <td>0</td>\n",
              "      <td>google</td>\n",
              "      <td>Barbeque Nation</td>\n",
              "      <td>Ambience Mall, Gurgaon</td>\n",
              "    </tr>\n",
              "    <tr>\n",
              "      <th>3</th>\n",
              "      <td>5015431352122</td>\n",
              "      <td>Pavan Sai Chandra</td>\n",
              "      <td>Hyderabad</td>\n",
              "      <td>M</td>\n",
              "      <td>69</td>\n",
              "      <td>google</td>\n",
              "      <td>3</td>\n",
              "      <td>google</td>\n",
              "      <td>Barbeque Pride</td>\n",
              "      <td>Hitech City, Hyderabad</td>\n",
              "    </tr>\n",
              "    <tr>\n",
              "      <th>4</th>\n",
              "      <td>5015431352123</td>\n",
              "      <td>Vaseem</td>\n",
              "      <td>Bengaluru</td>\n",
              "      <td>M</td>\n",
              "      <td>38</td>\n",
              "      <td>google</td>\n",
              "      <td>5</td>\n",
              "      <td>google</td>\n",
              "      <td>Float Brewery</td>\n",
              "      <td>Kalyan Nagar, North Bengaluru</td>\n",
              "    </tr>\n",
              "    <tr>\n",
              "      <th>...</th>\n",
              "      <td>...</td>\n",
              "      <td>...</td>\n",
              "      <td>...</td>\n",
              "      <td>...</td>\n",
              "      <td>...</td>\n",
              "      <td>...</td>\n",
              "      <td>...</td>\n",
              "      <td>...</td>\n",
              "      <td>...</td>\n",
              "      <td>...</td>\n",
              "    </tr>\n",
              "    <tr>\n",
              "      <th>61328</th>\n",
              "      <td>5015433432040</td>\n",
              "      <td>Adithya</td>\n",
              "      <td>Hyderabad</td>\n",
              "      <td>NaN</td>\n",
              "      <td>38</td>\n",
              "      <td>google</td>\n",
              "      <td>1</td>\n",
              "      <td>google</td>\n",
              "      <td>Deccan Pavilion</td>\n",
              "      <td>ITC Kakatiya</td>\n",
              "    </tr>\n",
              "    <tr>\n",
              "      <th>61329</th>\n",
              "      <td>5015433432043</td>\n",
              "      <td>Mazia</td>\n",
              "      <td>Mumbai</td>\n",
              "      <td>NaN</td>\n",
              "      <td>26</td>\n",
              "      <td>google</td>\n",
              "      <td>1</td>\n",
              "      <td>google</td>\n",
              "      <td>Barbeque Nation</td>\n",
              "      <td>Hill Road, Bandra West, Western Suburbs</td>\n",
              "    </tr>\n",
              "    <tr>\n",
              "      <th>61330</th>\n",
              "      <td>5015433432044</td>\n",
              "      <td>Salik</td>\n",
              "      <td>Jaipur</td>\n",
              "      <td>NaN</td>\n",
              "      <td>31</td>\n",
              "      <td>web</td>\n",
              "      <td>4</td>\n",
              "      <td>web</td>\n",
              "      <td>Barbeque Nation</td>\n",
              "      <td>MI Road, Jaipur</td>\n",
              "    </tr>\n",
              "    <tr>\n",
              "      <th>61331</th>\n",
              "      <td>5015433432050</td>\n",
              "      <td>Datta</td>\n",
              "      <td>Mumbai</td>\n",
              "      <td>NaN</td>\n",
              "      <td>18</td>\n",
              "      <td>web</td>\n",
              "      <td>11</td>\n",
              "      <td>web</td>\n",
              "      <td>Lake View Cafe</td>\n",
              "      <td>Renaissance Mumbai Convention Centre &amp; Hotel, ...</td>\n",
              "    </tr>\n",
              "    <tr>\n",
              "      <th>61332</th>\n",
              "      <td>5015433432052</td>\n",
              "      <td>Pramod</td>\n",
              "      <td>Kolhapur</td>\n",
              "      <td>NaN</td>\n",
              "      <td>78</td>\n",
              "      <td>google</td>\n",
              "      <td>2</td>\n",
              "      <td>google</td>\n",
              "      <td>Barbeque Nation</td>\n",
              "      <td>Kolhapur</td>\n",
              "    </tr>\n",
              "  </tbody>\n",
              "</table>\n",
              "<p>61333 rows × 10 columns</p>\n",
              "</div>"
            ],
            "text/plain": [
              "             cust_id  ...                                           location\n",
              "0      5015431352112  ...                        The Leela Ambience, Gurgaon\n",
              "1      5015431352115  ...                          Park Street Area, Kolkata\n",
              "2      5015431352121  ...                             Ambience Mall, Gurgaon\n",
              "3      5015431352122  ...                             Hitech City, Hyderabad\n",
              "4      5015431352123  ...                      Kalyan Nagar, North Bengaluru\n",
              "...              ...  ...                                                ...\n",
              "61328  5015433432040  ...                                       ITC Kakatiya\n",
              "61329  5015433432043  ...            Hill Road, Bandra West, Western Suburbs\n",
              "61330  5015433432044  ...                                    MI Road, Jaipur\n",
              "61331  5015433432050  ...  Renaissance Mumbai Convention Centre & Hotel, ...\n",
              "61332  5015433432052  ...                                           Kolhapur\n",
              "\n",
              "[61333 rows x 10 columns]"
            ]
          },
          "metadata": {
            "tags": []
          },
          "execution_count": 230
        }
      ]
    },
    {
      "cell_type": "code",
      "metadata": {
        "colab": {
          "base_uri": "https://localhost:8080/"
        },
        "id": "HY_MyH-2Pnio",
        "outputId": "e913190a-e61e-460d-e02c-bf83f9a44412"
      },
      "source": [
        "df['gender'].isna().sum() # counting NULL in gender col"
      ],
      "execution_count": null,
      "outputs": [
        {
          "output_type": "execute_result",
          "data": {
            "text/plain": [
              "58353"
            ]
          },
          "metadata": {
            "tags": []
          },
          "execution_count": 231
        }
      ]
    },
    {
      "cell_type": "code",
      "metadata": {
        "colab": {
          "base_uri": "https://localhost:8080/"
        },
        "id": "XPEt1MKrcLJO",
        "outputId": "b50d9c4f-1b5d-4f38-b73b-bd698e35404e"
      },
      "source": [
        "df = df.replace(np.nan, 'x', regex=True)\n",
        "df = df.replace('Female', 'F', regex=True)\n",
        "df = df.replace('Male', 'M', regex=True)\n",
        "\n",
        "df['gender']"
      ],
      "execution_count": null,
      "outputs": [
        {
          "output_type": "execute_result",
          "data": {
            "text/plain": [
              "0        F\n",
              "1        F\n",
              "2        F\n",
              "3        M\n",
              "4        M\n",
              "        ..\n",
              "61328    x\n",
              "61329    x\n",
              "61330    x\n",
              "61331    x\n",
              "61332    x\n",
              "Name: gender, Length: 61333, dtype: object"
            ]
          },
          "metadata": {
            "tags": []
          },
          "execution_count": 232
        }
      ]
    },
    {
      "cell_type": "code",
      "metadata": {
        "colab": {
          "base_uri": "https://localhost:8080/"
        },
        "id": "7CR1tDbEdBW7",
        "outputId": "ce045c2d-eca6-46e2-e170-594ecb797f29"
      },
      "source": [
        "df['gender'].unique()"
      ],
      "execution_count": null,
      "outputs": [
        {
          "output_type": "execute_result",
          "data": {
            "text/plain": [
              "array(['F', 'M', 'x'], dtype=object)"
            ]
          },
          "metadata": {
            "tags": []
          },
          "execution_count": 233
        }
      ]
    },
    {
      "cell_type": "code",
      "metadata": {
        "colab": {
          "base_uri": "https://localhost:8080/"
        },
        "id": "vqflCH5RPnlR",
        "outputId": "d96bc360-2ced-4fd5-9897-b3baa1ca5fe3"
      },
      "source": [
        "from sklearn import preprocessing\n",
        "label_encoder = preprocessing.LabelEncoder()  ## encoding tool\n",
        "  \n",
        "# Encode labels in column 'gender'.\n",
        "df['gender']= label_encoder.fit_transform(df['gender'])\n",
        "  \n",
        "df['gender'].unique() "
      ],
      "execution_count": null,
      "outputs": [
        {
          "output_type": "execute_result",
          "data": {
            "text/plain": [
              "array([0, 1, 2])"
            ]
          },
          "metadata": {
            "tags": []
          },
          "execution_count": 234
        }
      ]
    },
    {
      "cell_type": "code",
      "metadata": {
        "id": "ue2R7BMcPnoB"
      },
      "source": [
        "#copy the dataframe df to X\n",
        "X=df[['city','gender','AGE','date','restaurant_name','location','medium_x']]\n",
        "X;"
      ],
      "execution_count": null,
      "outputs": []
    },
    {
      "cell_type": "code",
      "metadata": {
        "id": "c2C1fVOiuu3y"
      },
      "source": [
        "X.city.value_counts(); #counting different number of cities "
      ],
      "execution_count": null,
      "outputs": []
    },
    {
      "cell_type": "code",
      "metadata": {
        "id": "5OUjDEbxvExW"
      },
      "source": [
        "X.medium_x.value_counts();"
      ],
      "execution_count": null,
      "outputs": []
    },
    {
      "cell_type": "code",
      "metadata": {
        "colab": {
          "base_uri": "https://localhost:8080/"
        },
        "id": "Cbf3sllIrT0y",
        "outputId": "1ea1d195-2bf7-4601-efa0-c608458db184"
      },
      "source": [
        "X['restaurant_name']=[str(i) for i in (X['restaurant_name'])] ## conversion of object type to string type\n",
        "X['restaurant_name'];"
      ],
      "execution_count": null,
      "outputs": [
        {
          "output_type": "stream",
          "text": [
            "/usr/local/lib/python3.7/dist-packages/ipykernel_launcher.py:1: SettingWithCopyWarning: \n",
            "A value is trying to be set on a copy of a slice from a DataFrame.\n",
            "Try using .loc[row_indexer,col_indexer] = value instead\n",
            "\n",
            "See the caveats in the documentation: https://pandas.pydata.org/pandas-docs/stable/user_guide/indexing.html#returning-a-view-versus-a-copy\n",
            "  \"\"\"Entry point for launching an IPython kernel.\n"
          ],
          "name": "stderr"
        }
      ]
    },
    {
      "cell_type": "code",
      "metadata": {
        "colab": {
          "base_uri": "https://localhost:8080/"
        },
        "id": "uGCU1RLVtwbs",
        "outputId": "2872b1f9-8f4f-47cb-f960-f80a051966ce"
      },
      "source": [
        "#encoding the resturant name\n",
        "X['restaurant_name']= label_encoder.fit_transform(X['restaurant_name'])\n",
        "  \n",
        "X['restaurant_name'].value_counts();\n"
      ],
      "execution_count": null,
      "outputs": [
        {
          "output_type": "stream",
          "text": [
            "/usr/local/lib/python3.7/dist-packages/ipykernel_launcher.py:2: SettingWithCopyWarning: \n",
            "A value is trying to be set on a copy of a slice from a DataFrame.\n",
            "Try using .loc[row_indexer,col_indexer] = value instead\n",
            "\n",
            "See the caveats in the documentation: https://pandas.pydata.org/pandas-docs/stable/user_guide/indexing.html#returning-a-view-versus-a-copy\n",
            "  \n"
          ],
          "name": "stderr"
        }
      ]
    },
    {
      "cell_type": "code",
      "metadata": {
        "colab": {
          "base_uri": "https://localhost:8080/"
        },
        "id": "CoDEZy0ivJA6",
        "outputId": "bc168d9d-cfee-46c0-aac4-18998698b4d2"
      },
      "source": [
        "#encoding the city\n",
        "X['city']= label_encoder.fit_transform(X['city'])\n",
        "  \n",
        "X['city'].value_counts();"
      ],
      "execution_count": null,
      "outputs": [
        {
          "output_type": "stream",
          "text": [
            "/usr/local/lib/python3.7/dist-packages/ipykernel_launcher.py:2: SettingWithCopyWarning: \n",
            "A value is trying to be set on a copy of a slice from a DataFrame.\n",
            "Try using .loc[row_indexer,col_indexer] = value instead\n",
            "\n",
            "See the caveats in the documentation: https://pandas.pydata.org/pandas-docs/stable/user_guide/indexing.html#returning-a-view-versus-a-copy\n",
            "  \n"
          ],
          "name": "stderr"
        }
      ]
    },
    {
      "cell_type": "code",
      "metadata": {
        "colab": {
          "base_uri": "https://localhost:8080/"
        },
        "id": "LU9Auidg7KMf",
        "outputId": "a27ecb2a-8713-44c8-c788-782cef4f5901"
      },
      "source": [
        "##encoding the medium_x name\n",
        "X['medium_x']= label_encoder.fit_transform(X['medium_x'])\n",
        "  \n",
        "X['medium_x'].value_counts()"
      ],
      "execution_count": null,
      "outputs": [
        {
          "output_type": "stream",
          "text": [
            "/usr/local/lib/python3.7/dist-packages/ipykernel_launcher.py:2: SettingWithCopyWarning: \n",
            "A value is trying to be set on a copy of a slice from a DataFrame.\n",
            "Try using .loc[row_indexer,col_indexer] = value instead\n",
            "\n",
            "See the caveats in the documentation: https://pandas.pydata.org/pandas-docs/stable/user_guide/indexing.html#returning-a-view-versus-a-copy\n",
            "  \n"
          ],
          "name": "stderr"
        },
        {
          "output_type": "execute_result",
          "data": {
            "text/plain": [
              "3    46789\n",
              "0     7325\n",
              "5     3419\n",
              "4     2544\n",
              "2     1206\n",
              "1       50\n",
              "Name: medium_x, dtype: int64"
            ]
          },
          "metadata": {
            "tags": []
          },
          "execution_count": 241
        }
      ]
    },
    {
      "cell_type": "code",
      "metadata": {
        "colab": {
          "base_uri": "https://localhost:8080/"
        },
        "id": "1P2pj97TBNIC",
        "outputId": "e68d4047-3720-43ef-e3f9-8f7bfee775a3"
      },
      "source": [
        "# X['location']= label_encoder.fit_transform(X['location'])\n",
        "  \n",
        "# X['location'].value_counts()"
      ],
      "execution_count": null,
      "outputs": [
        {
          "output_type": "stream",
          "text": [
            "/usr/local/lib/python3.7/dist-packages/ipykernel_launcher.py:1: SettingWithCopyWarning: \n",
            "A value is trying to be set on a copy of a slice from a DataFrame.\n",
            "Try using .loc[row_indexer,col_indexer] = value instead\n",
            "\n",
            "See the caveats in the documentation: https://pandas.pydata.org/pandas-docs/stable/user_guide/indexing.html#returning-a-view-versus-a-copy\n",
            "  \"\"\"Entry point for launching an IPython kernel.\n"
          ],
          "name": "stderr"
        },
        {
          "output_type": "execute_result",
          "data": {
            "text/plain": [
              "175     1802\n",
              "86      1246\n",
              "754     1187\n",
              "493     1117\n",
              "1205    1037\n",
              "        ... \n",
              "439        1\n",
              "407        1\n",
              "808        1\n",
              "840        1\n",
              "0          1\n",
              "Name: location, Length: 1231, dtype: int64"
            ]
          },
          "metadata": {
            "tags": []
          },
          "execution_count": 242
        }
      ]
    },
    {
      "cell_type": "code",
      "metadata": {
        "colab": {
          "base_uri": "https://localhost:8080/"
        },
        "id": "tVHxpYnEPn0O",
        "outputId": "3ef65ccf-deff-4b97-fcc7-c59b780efdb1"
      },
      "source": [
        "dt=[]\n",
        "for i in (X['date']):\n",
        "  if (i<=7):\n",
        "    dt.append(0)\n",
        "  else:\n",
        "     dt.append(1)\n",
        "arr=np.array(dt)     \n",
        "X['date']=arr    \n",
        "#Allocating 0 where the duration exceeds 7 days  else 1."
      ],
      "execution_count": null,
      "outputs": [
        {
          "output_type": "stream",
          "text": [
            "/usr/local/lib/python3.7/dist-packages/ipykernel_launcher.py:8: SettingWithCopyWarning: \n",
            "A value is trying to be set on a copy of a slice from a DataFrame.\n",
            "Try using .loc[row_indexer,col_indexer] = value instead\n",
            "\n",
            "See the caveats in the documentation: https://pandas.pydata.org/pandas-docs/stable/user_guide/indexing.html#returning-a-view-versus-a-copy\n",
            "  \n"
          ],
          "name": "stderr"
        }
      ]
    },
    {
      "cell_type": "code",
      "metadata": {
        "id": "AawaLC6v7JMi",
        "colab": {
          "base_uri": "https://localhost:8080/",
          "height": 195
        },
        "outputId": "14573a6a-471b-4303-f1eb-38c17bad84e6"
      },
      "source": [
        "X.head()"
      ],
      "execution_count": null,
      "outputs": [
        {
          "output_type": "execute_result",
          "data": {
            "text/html": [
              "<div>\n",
              "<style scoped>\n",
              "    .dataframe tbody tr th:only-of-type {\n",
              "        vertical-align: middle;\n",
              "    }\n",
              "\n",
              "    .dataframe tbody tr th {\n",
              "        vertical-align: top;\n",
              "    }\n",
              "\n",
              "    .dataframe thead th {\n",
              "        text-align: right;\n",
              "    }\n",
              "</style>\n",
              "<table border=\"1\" class=\"dataframe\">\n",
              "  <thead>\n",
              "    <tr style=\"text-align: right;\">\n",
              "      <th></th>\n",
              "      <th>city</th>\n",
              "      <th>gender</th>\n",
              "      <th>AGE</th>\n",
              "      <th>date</th>\n",
              "      <th>restaurant_name</th>\n",
              "      <th>location</th>\n",
              "      <th>medium_x</th>\n",
              "    </tr>\n",
              "  </thead>\n",
              "  <tbody>\n",
              "    <tr>\n",
              "      <th>0</th>\n",
              "      <td>21</td>\n",
              "      <td>0</td>\n",
              "      <td>72</td>\n",
              "      <td>0</td>\n",
              "      <td>1747</td>\n",
              "      <td>1090</td>\n",
              "      <td>5</td>\n",
              "    </tr>\n",
              "    <tr>\n",
              "      <th>1</th>\n",
              "      <td>45</td>\n",
              "      <td>0</td>\n",
              "      <td>60</td>\n",
              "      <td>0</td>\n",
              "      <td>224</td>\n",
              "      <td>749</td>\n",
              "      <td>3</td>\n",
              "    </tr>\n",
              "    <tr>\n",
              "      <th>2</th>\n",
              "      <td>21</td>\n",
              "      <td>0</td>\n",
              "      <td>27</td>\n",
              "      <td>0</td>\n",
              "      <td>224</td>\n",
              "      <td>42</td>\n",
              "      <td>3</td>\n",
              "    </tr>\n",
              "    <tr>\n",
              "      <th>3</th>\n",
              "      <td>33</td>\n",
              "      <td>1</td>\n",
              "      <td>69</td>\n",
              "      <td>0</td>\n",
              "      <td>225</td>\n",
              "      <td>388</td>\n",
              "      <td>3</td>\n",
              "    </tr>\n",
              "    <tr>\n",
              "      <th>4</th>\n",
              "      <td>12</td>\n",
              "      <td>1</td>\n",
              "      <td>38</td>\n",
              "      <td>0</td>\n",
              "      <td>705</td>\n",
              "      <td>529</td>\n",
              "      <td>3</td>\n",
              "    </tr>\n",
              "  </tbody>\n",
              "</table>\n",
              "</div>"
            ],
            "text/plain": [
              "   city  gender  AGE  date  restaurant_name  location  medium_x\n",
              "0    21       0   72     0             1747      1090         5\n",
              "1    45       0   60     0              224       749         3\n",
              "2    21       0   27     0              224        42         3\n",
              "3    33       1   69     0              225       388         3\n",
              "4    12       1   38     0              705       529         3"
            ]
          },
          "metadata": {
            "tags": []
          },
          "execution_count": 244
        }
      ]
    },
    {
      "cell_type": "code",
      "metadata": {
        "id": "nmBpHZCzPn16",
        "colab": {
          "base_uri": "https://localhost:8080/"
        },
        "outputId": "cdde92ad-67c6-4986-9854-17a3f91e3244"
      },
      "source": [
        "\n",
        "X['date'].value_counts()"
      ],
      "execution_count": null,
      "outputs": [
        {
          "output_type": "execute_result",
          "data": {
            "text/plain": [
              "0    54688\n",
              "1     6645\n",
              "Name: date, dtype: int64"
            ]
          },
          "metadata": {
            "tags": []
          },
          "execution_count": 245
        }
      ]
    },
    {
      "cell_type": "code",
      "metadata": {
        "colab": {
          "base_uri": "https://localhost:8080/",
          "height": 269
        },
        "id": "ZuO5-atO4CJD",
        "outputId": "9b38675a-e672-4e6b-cbef-ee80cd765dec"
      },
      "source": [
        "sns.boxplot(y='AGE', data=X)"
      ],
      "execution_count": null,
      "outputs": [
        {
          "output_type": "execute_result",
          "data": {
            "text/plain": [
              "<matplotlib.axes._subplots.AxesSubplot at 0x7ff7b2d3bad0>"
            ]
          },
          "metadata": {
            "tags": []
          },
          "execution_count": 246
        },
        {
          "output_type": "display_data",
          "data": {
            "image/png": "[encoded data removed]",
            "text/plain": [
              "<Figure size 432x288 with 1 Axes>"
            ]
          },
          "metadata": {
            "tags": [],
            "needs_background": "light"
          }
        }
      ]
    },
    {
      "cell_type": "code",
      "metadata": {
        "id": "uro1V37-CAmS"
      },
      "source": [
        "X1=X[['gender','city','AGE','restaurant_name','medium_x',]]\n",
        "y=X[['date']]"
      ],
      "execution_count": null,
      "outputs": []
    },
    {
      "cell_type": "code",
      "metadata": {
        "id": "FGlA2uzD70Ta"
      },
      "source": [
        ""
      ],
      "execution_count": null,
      "outputs": []
    },
    {
      "cell_type": "code",
      "metadata": {
        "colab": {
          "base_uri": "https://localhost:8080/"
        },
        "id": "C3AAIu6O70fr",
        "outputId": "1f0b189a-a85e-4e1e-cad3-de11e78b268b"
      },
      "source": [
        "eignvalues,eignvectors = np.linalg.eig(X1.corr())\n",
        "pd.Series(eignvalues).sort_values()\n",
        "#this is use to see the collinearity among parameters"
      ],
      "execution_count": null,
      "outputs": [
        {
          "output_type": "execute_result",
          "data": {
            "text/plain": [
              "1   0.66\n",
              "5   0.81\n",
              "4   0.94\n",
              "3   1.01\n",
              "2   1.19\n",
              "0   1.38\n",
              "dtype: float64"
            ]
          },
          "metadata": {
            "tags": []
          },
          "execution_count": 248
        }
      ]
    },
    {
      "cell_type": "code",
      "metadata": {
        "colab": {
          "base_uri": "https://localhost:8080/",
          "height": 225
        },
        "id": "Zhg5961B70hU",
        "outputId": "a4a7c573-659a-4a84-c7ee-36c6eb782045"
      },
      "source": [
        "corr_matrix=X1.corr() #used to find the corelation matrix\n",
        "pd.options.display.float_format='{:,.2f}'.format\n",
        "corr_matrix"
      ],
      "execution_count": null,
      "outputs": [
        {
          "output_type": "execute_result",
          "data": {
            "text/html": [
              "<div>\n",
              "<style scoped>\n",
              "    .dataframe tbody tr th:only-of-type {\n",
              "        vertical-align: middle;\n",
              "    }\n",
              "\n",
              "    .dataframe tbody tr th {\n",
              "        vertical-align: top;\n",
              "    }\n",
              "\n",
              "    .dataframe thead th {\n",
              "        text-align: right;\n",
              "    }\n",
              "</style>\n",
              "<table border=\"1\" class=\"dataframe\">\n",
              "  <thead>\n",
              "    <tr style=\"text-align: right;\">\n",
              "      <th></th>\n",
              "      <th>gender</th>\n",
              "      <th>city</th>\n",
              "      <th>AGE</th>\n",
              "      <th>restaurant_name</th>\n",
              "      <th>medium_x</th>\n",
              "      <th>location</th>\n",
              "    </tr>\n",
              "  </thead>\n",
              "  <tbody>\n",
              "    <tr>\n",
              "      <th>gender</th>\n",
              "      <td>1.00</td>\n",
              "      <td>0.03</td>\n",
              "      <td>-0.00</td>\n",
              "      <td>0.02</td>\n",
              "      <td>-0.00</td>\n",
              "      <td>0.01</td>\n",
              "    </tr>\n",
              "    <tr>\n",
              "      <th>city</th>\n",
              "      <td>0.03</td>\n",
              "      <td>1.00</td>\n",
              "      <td>0.01</td>\n",
              "      <td>-0.20</td>\n",
              "      <td>0.02</td>\n",
              "      <td>0.29</td>\n",
              "    </tr>\n",
              "    <tr>\n",
              "      <th>AGE</th>\n",
              "      <td>-0.00</td>\n",
              "      <td>0.01</td>\n",
              "      <td>1.00</td>\n",
              "      <td>-0.03</td>\n",
              "      <td>0.19</td>\n",
              "      <td>-0.00</td>\n",
              "    </tr>\n",
              "    <tr>\n",
              "      <th>restaurant_name</th>\n",
              "      <td>0.02</td>\n",
              "      <td>-0.20</td>\n",
              "      <td>-0.03</td>\n",
              "      <td>1.00</td>\n",
              "      <td>-0.05</td>\n",
              "      <td>-0.04</td>\n",
              "    </tr>\n",
              "    <tr>\n",
              "      <th>medium_x</th>\n",
              "      <td>-0.00</td>\n",
              "      <td>0.02</td>\n",
              "      <td>0.19</td>\n",
              "      <td>-0.05</td>\n",
              "      <td>1.00</td>\n",
              "      <td>-0.00</td>\n",
              "    </tr>\n",
              "    <tr>\n",
              "      <th>location</th>\n",
              "      <td>0.01</td>\n",
              "      <td>0.29</td>\n",
              "      <td>-0.00</td>\n",
              "      <td>-0.04</td>\n",
              "      <td>-0.00</td>\n",
              "      <td>1.00</td>\n",
              "    </tr>\n",
              "  </tbody>\n",
              "</table>\n",
              "</div>"
            ],
            "text/plain": [
              "                 gender  city   AGE  restaurant_name  medium_x  location\n",
              "gender             1.00  0.03 -0.00             0.02     -0.00      0.01\n",
              "city               0.03  1.00  0.01            -0.20      0.02      0.29\n",
              "AGE               -0.00  0.01  1.00            -0.03      0.19     -0.00\n",
              "restaurant_name    0.02 -0.20 -0.03             1.00     -0.05     -0.04\n",
              "medium_x          -0.00  0.02  0.19            -0.05      1.00     -0.00\n",
              "location           0.01  0.29 -0.00            -0.04     -0.00      1.00"
            ]
          },
          "metadata": {
            "tags": []
          },
          "execution_count": 249
        }
      ]
    },
    {
      "cell_type": "code",
      "metadata": {
        "colab": {
          "base_uri": "https://localhost:8080/",
          "height": 596
        },
        "id": "Nd9V6GfR70kW",
        "outputId": "ee44f225-ce92-4d89-f128-7a5dbc07bd70"
      },
      "source": [
        "plt.figure(figsize=(16,10 ))\n",
        "sns.heatmap(corr_matrix,annot=True,cmap='YlGnBu')\n",
        "plt.show()"
      ],
      "execution_count": null,
      "outputs": [
        {
          "output_type": "display_data",
          "data": {
            "image/png": "[encoded data removed]",
            "text/plain": [
              "<Figure size 1152x720 with 2 Axes>"
            ]
          },
          "metadata": {
            "tags": [],
            "needs_background": "light"
          }
        }
      ]
    },
    {
      "cell_type": "code",
      "metadata": {
        "id": "s5bUESYB70oy"
      },
      "source": [
        ""
      ],
      "execution_count": null,
      "outputs": []
    },
    {
      "cell_type": "code",
      "metadata": {
        "id": "SUUVojCZ70xq"
      },
      "source": [
        ""
      ],
      "execution_count": null,
      "outputs": []
    },
    {
      "cell_type": "code",
      "metadata": {
        "id": "KRbRR720Pn4g"
      },
      "source": [
        "from sklearn.model_selection import train_test_split\n",
        "X_train,X_test,y_train,y_test=train_test_split(X1,y,test_size = 0.3,random_state = 0) #ued to split may data sheet into 7:3 for training and testing purpose respectively"
      ],
      "execution_count": null,
      "outputs": []
    },
    {
      "cell_type": "code",
      "metadata": {
        "colab": {
          "base_uri": "https://localhost:8080/"
        },
        "id": "TIwe0rxu9u4-",
        "outputId": "37ceb874-2585-4a89-9568-33b9e3a00bee"
      },
      "source": [
        "X_train.shape"
      ],
      "execution_count": null,
      "outputs": [
        {
          "output_type": "execute_result",
          "data": {
            "text/plain": [
              "(42933, 6)"
            ]
          },
          "metadata": {
            "tags": []
          },
          "execution_count": 252
        }
      ]
    },
    {
      "cell_type": "code",
      "metadata": {
        "id": "C-awLu6Squcg"
      },
      "source": [
        "from sklearn.model_selection import cross_val_score,cross_val_predict\n",
        "from sklearn.metrics import accuracy_score,classification_report,confusion_matrix"
      ],
      "execution_count": null,
      "outputs": []
    },
    {
      "cell_type": "code",
      "metadata": {
        "id": "YGUcDvziPn8I"
      },
      "source": [
        "def print_score(clf,X_train,X_test,y_train,y_test,train=True):\n",
        "    '''\n",
        "    print the accuracy score,classification report ,and confusion matrix'''\n",
        "    if train:\n",
        "        '''\n",
        "        training per formance'''\n",
        "        prob_preds = clf.predict_proba(X_train)\n",
        "        threshold = 0.2\n",
        "        y_pred = [1 if prob_preds[i][1]>= threshold else 0 for i in range(len(prob_preds))]\n",
        "        print(\"Train Result:\\n\")\n",
        "        \n",
        "        print(\"accuracy score: {0:.4f}\\n\".format(accuracy_score(y_train,y_pred)))\n",
        "        print(\"Classifier_report:\\n {} \\n\".format(classification_report(y_train,y_pred)))\n",
        "    elif train==False:\n",
        "        '''\n",
        "        test performance'''\n",
        "        prob_preds = clf.predict_proba(X_test)\n",
        "        threshold = 0.2\n",
        "        y_pred = [1 if prob_preds[i][1]>= threshold else 0 for i in range(len(prob_preds))]\n",
        "        print(\"Test Result:\\n\")\n",
        "        print(\"accuracy score: {0:.4f}\\n\".format(accuracy_score(y_test,y_pred)))\n",
        "        print(\"Classifier_report:\\n {} \\n\".format(classification_report(y_test,y_pred)))"
      ],
      "execution_count": null,
      "outputs": []
    },
    {
      "cell_type": "code",
      "metadata": {
        "id": "UkRgfAQHqDIn"
      },
      "source": [
        "from sklearn.ensemble import RandomForestClassifier"
      ],
      "execution_count": null,
      "outputs": []
    },
    {
      "cell_type": "code",
      "metadata": {
        "colab": {
          "base_uri": "https://localhost:8080/"
        },
        "id": "sVnYCoi0qUcV",
        "outputId": "75fc53f5-855b-4502-9c02-af2f93da4f2b"
      },
      "source": [
        "rf_clf= RandomForestClassifier() #classifier used for prediction\n",
        "rf_clf.fit(X_train,y_train)\n"
      ],
      "execution_count": null,
      "outputs": [
        {
          "output_type": "stream",
          "text": [
            "/usr/local/lib/python3.7/dist-packages/ipykernel_launcher.py:2: DataConversionWarning: A column-vector y was passed when a 1d array was expected. Please change the shape of y to (n_samples,), for example using ravel().\n",
            "  \n"
          ],
          "name": "stderr"
        },
        {
          "output_type": "execute_result",
          "data": {
            "text/plain": [
              "RandomForestClassifier(bootstrap=True, ccp_alpha=0.0, class_weight=None,\n",
              "                       criterion='gini', max_depth=None, max_features='auto',\n",
              "                       max_leaf_nodes=None, max_samples=None,\n",
              "                       min_impurity_decrease=0.0, min_impurity_split=None,\n",
              "                       min_samples_leaf=1, min_samples_split=2,\n",
              "                       min_weight_fraction_leaf=0.0, n_estimators=100,\n",
              "                       n_jobs=None, oob_score=False, random_state=None,\n",
              "                       verbose=0, warm_start=False)"
            ]
          },
          "metadata": {
            "tags": []
          },
          "execution_count": 256
        }
      ]
    },
    {
      "cell_type": "code",
      "metadata": {
        "colab": {
          "base_uri": "https://localhost:8080/"
        },
        "id": "lHzv3VPcqUeF",
        "outputId": "be7ceb61-dc22-46a3-e996-cfd610dd711a"
      },
      "source": [
        "print_score(rf_clf,X_train,X_test,y_train,y_test,train=True)\n",
        "print_score(rf_clf,X_train,X_test,y_train,y_test,train=False)"
      ],
      "execution_count": null,
      "outputs": [
        {
          "output_type": "stream",
          "text": [
            "Train Result:\n",
            "\n",
            "accuracy score: 0.9285\n",
            "\n",
            "Classifier_report:\n",
            "               precision    recall  f1-score   support\n",
            "\n",
            "           0       0.99      0.92      0.96     38275\n",
            "           1       0.61      0.96      0.74      4658\n",
            "\n",
            "    accuracy                           0.93     42933\n",
            "   macro avg       0.80      0.94      0.85     42933\n",
            "weighted avg       0.95      0.93      0.94     42933\n",
            " \n",
            "\n",
            "Test Result:\n",
            "\n",
            "accuracy score: 0.7746\n",
            "\n",
            "Classifier_report:\n",
            "               precision    recall  f1-score   support\n",
            "\n",
            "           0       0.91      0.82      0.87     16413\n",
            "           1       0.20      0.36      0.26      1987\n",
            "\n",
            "    accuracy                           0.77     18400\n",
            "   macro avg       0.56      0.59      0.56     18400\n",
            "weighted avg       0.84      0.77      0.80     18400\n",
            " \n",
            "\n"
          ],
          "name": "stdout"
        }
      ]
    },
    {
      "cell_type": "code",
      "metadata": {
        "id": "8Lwjk3SD9pWw"
      },
      "source": [
        ""
      ],
      "execution_count": null,
      "outputs": []
    },
    {
      "cell_type": "code",
      "metadata": {
        "id": "ilmsTkAyqUwi"
      },
      "source": [
        "# 2nd model\n",
        "from sklearn.ensemble import AdaBoostClassifier  #2nd classifier\n",
        "ada = AdaBoostClassifier(base_estimator=rf_clf,n_estimators=100,\n",
        "                        learning_rate=0.5,random_state=42)"
      ],
      "execution_count": null,
      "outputs": []
    },
    {
      "cell_type": "code",
      "metadata": {
        "colab": {
          "base_uri": "https://localhost:8080/"
        },
        "id": "AcWIhBO2_-Kb",
        "outputId": "114d9851-9e61-4d4a-9d47-bf7bf53c9729"
      },
      "source": [
        "print_score(rf_clf,X_train,X_test,y_train,y_test,train=True)\n",
        "print_score(rf_clf,X_train,X_test,y_train,y_test,train=False)"
      ],
      "execution_count": null,
      "outputs": [
        {
          "output_type": "stream",
          "text": [
            "Train Result:\n",
            "\n",
            "accuracy score: 0.9285\n",
            "\n",
            "Classifier_report:\n",
            "               precision    recall  f1-score   support\n",
            "\n",
            "           0       0.99      0.92      0.96     38275\n",
            "           1       0.61      0.96      0.74      4658\n",
            "\n",
            "    accuracy                           0.93     42933\n",
            "   macro avg       0.80      0.94      0.85     42933\n",
            "weighted avg       0.95      0.93      0.94     42933\n",
            " \n",
            "\n",
            "Test Result:\n",
            "\n",
            "accuracy score: 0.7746\n",
            "\n",
            "Classifier_report:\n",
            "               precision    recall  f1-score   support\n",
            "\n",
            "           0       0.91      0.82      0.87     16413\n",
            "           1       0.20      0.36      0.26      1987\n",
            "\n",
            "    accuracy                           0.77     18400\n",
            "   macro avg       0.56      0.59      0.56     18400\n",
            "weighted avg       0.84      0.77      0.80     18400\n",
            " \n",
            "\n"
          ],
          "name": "stdout"
        }
      ]
    },
    {
      "cell_type": "code",
      "metadata": {
        "id": "hybA2ZviANCD"
      },
      "source": [
        ""
      ],
      "execution_count": null,
      "outputs": []
    }
  ]
}